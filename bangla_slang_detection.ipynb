{
  "nbformat": 4,
  "nbformat_minor": 0,
  "metadata": {
    "colab": {
      "provenance": [],
      "include_colab_link": true
    },
    "kernelspec": {
      "name": "python3",
      "display_name": "Python 3"
    }
  },
  "cells": [
    {
      "cell_type": "markdown",
      "metadata": {
        "id": "view-in-github",
        "colab_type": "text"
      },
      "source": [
        "<a href=\"https://colab.research.google.com/github/jabir-al-nahian/bangla-slang-detection/blob/main/bangla_slang_detection.ipynb\" target=\"_parent\"><img src=\"https://colab.research.google.com/assets/colab-badge.svg\" alt=\"Open In Colab\"/></a>"
      ]
    },
    {
      "cell_type": "code",
      "metadata": {
        "id": "bHuUH9gPZJC-"
      },
      "source": [
        "import pandas as pd\n",
        "import numpy as np\n",
        "import matplotlib.pyplot as plt\n",
        "from sklearn.linear_model import LogisticRegression\n",
        "from sklearn.model_selection import train_test_split,cross_val_score\n",
        "from sklearn.feature_selection import f_classif\n",
        "from sklearn.preprocessing import LabelEncoder, StandardScaler, MinMaxScaler\n",
        "from sklearn import metrics\n",
        "from scipy import stats\n",
        "import statsmodels.api as sm\n",
        "import math\n",
        "import re\n",
        "import seaborn as sns\n",
        "from statsmodels.stats.outliers_influence import variance_inflation_factor\n",
        "import sys\n",
        "import pandas.core.algorithms as algos\n",
        "pd.pandas.set_option('display.max_columns',None)"
      ],
      "execution_count": null,
      "outputs": []
    },
    {
      "cell_type": "code",
      "source": [
        "from google.colab import drive\n",
        "drive.mount('/content/drive')"
      ],
      "metadata": {
        "colab": {
          "base_uri": "https://localhost:8080/"
        },
        "id": "mRV5cb5SEtIv",
        "outputId": "6928da5c-0c7a-45d9-ff69-0e353680233b"
      },
      "execution_count": null,
      "outputs": [
        {
          "output_type": "stream",
          "name": "stdout",
          "text": [
            "Drive already mounted at /content/drive; to attempt to forcibly remount, call drive.mount(\"/content/drive\", force_remount=True).\n"
          ]
        }
      ]
    },
    {
      "cell_type": "code",
      "metadata": {
        "id": "HcA7ApOqg6DO"
      },
      "source": [
        "news_data=pd.read_csv(\"/content/drive/MyDrive/Boot-Camp-3/Dataset.csv\")"
      ],
      "execution_count": null,
      "outputs": []
    },
    {
      "cell_type": "code",
      "source": [
        "news_data"
      ],
      "metadata": {
        "colab": {
          "base_uri": "https://localhost:8080/",
          "height": 424
        },
        "id": "Eo6UmvZ-OzA8",
        "outputId": "56b28490-3964-45fa-cc13-d66295abc7a7"
      },
      "execution_count": null,
      "outputs": [
        {
          "output_type": "execute_result",
          "data": {
            "text/plain": [
              "                                               Sentence Type\n",
              "0               যা‌দের মন সুন্দর তা‌দের ছ‌বিও সুন্দর।\\n   No\n",
              "1         আল্লাহ সুবহানাহু ওয়াতাআ'লা নেক হায়াৎ দান করুন   No\n",
              "2                         আলহামদুলিল্লাহ ভালো সিদ্ধান্ত   No\n",
              "3     আপনাকে নিচে নামানোর জন্য অনেকেই অনেক কিছু বলবে...   No\n",
              "4                        হিরো আলমের বউ ক্ষেপতেসো ক্যান?  Yes\n",
              "...                                                 ...  ...\n",
              "3014                                ছাগলের বাচ্চা সিয়াম  yes\n",
              "3015        নাছিরের ধন অনেক বড় তাই মেয়েটা পাগল হয়ে গেছে  yes\n",
              "3016      বুকা ভারতের সাথে শেষ বলে একটা রান করতে পারলে   yes\n",
              "3017                  এ মালাউনের মুখে জুতা মারেন সবাই    yes\n",
              "3018  ইউটিউবার দেখছি এমন বক্সচুদ ইউটিউবার তো দেখি না...  yes\n",
              "\n",
              "[3019 rows x 2 columns]"
            ],
            "text/html": [
              "\n",
              "  <div id=\"df-2adbd5b8-deff-4b97-8581-210b199cc659\">\n",
              "    <div class=\"colab-df-container\">\n",
              "      <div>\n",
              "<style scoped>\n",
              "    .dataframe tbody tr th:only-of-type {\n",
              "        vertical-align: middle;\n",
              "    }\n",
              "\n",
              "    .dataframe tbody tr th {\n",
              "        vertical-align: top;\n",
              "    }\n",
              "\n",
              "    .dataframe thead th {\n",
              "        text-align: right;\n",
              "    }\n",
              "</style>\n",
              "<table border=\"1\" class=\"dataframe\">\n",
              "  <thead>\n",
              "    <tr style=\"text-align: right;\">\n",
              "      <th></th>\n",
              "      <th>Sentence</th>\n",
              "      <th>Type</th>\n",
              "    </tr>\n",
              "  </thead>\n",
              "  <tbody>\n",
              "    <tr>\n",
              "      <th>0</th>\n",
              "      <td>যা‌দের মন সুন্দর তা‌দের ছ‌বিও সুন্দর।\\n</td>\n",
              "      <td>No</td>\n",
              "    </tr>\n",
              "    <tr>\n",
              "      <th>1</th>\n",
              "      <td>আল্লাহ সুবহানাহু ওয়াতাআ'লা নেক হায়াৎ দান করুন</td>\n",
              "      <td>No</td>\n",
              "    </tr>\n",
              "    <tr>\n",
              "      <th>2</th>\n",
              "      <td>আলহামদুলিল্লাহ ভালো সিদ্ধান্ত</td>\n",
              "      <td>No</td>\n",
              "    </tr>\n",
              "    <tr>\n",
              "      <th>3</th>\n",
              "      <td>আপনাকে নিচে নামানোর জন্য অনেকেই অনেক কিছু বলবে...</td>\n",
              "      <td>No</td>\n",
              "    </tr>\n",
              "    <tr>\n",
              "      <th>4</th>\n",
              "      <td>হিরো আলমের বউ ক্ষেপতেসো ক্যান?</td>\n",
              "      <td>Yes</td>\n",
              "    </tr>\n",
              "    <tr>\n",
              "      <th>...</th>\n",
              "      <td>...</td>\n",
              "      <td>...</td>\n",
              "    </tr>\n",
              "    <tr>\n",
              "      <th>3014</th>\n",
              "      <td>ছাগলের বাচ্চা সিয়াম</td>\n",
              "      <td>yes</td>\n",
              "    </tr>\n",
              "    <tr>\n",
              "      <th>3015</th>\n",
              "      <td>নাছিরের ধন অনেক বড় তাই মেয়েটা পাগল হয়ে গেছে</td>\n",
              "      <td>yes</td>\n",
              "    </tr>\n",
              "    <tr>\n",
              "      <th>3016</th>\n",
              "      <td>বুকা ভারতের সাথে শেষ বলে একটা রান করতে পারলে</td>\n",
              "      <td>yes</td>\n",
              "    </tr>\n",
              "    <tr>\n",
              "      <th>3017</th>\n",
              "      <td>এ মালাউনের মুখে জুতা মারেন সবাই</td>\n",
              "      <td>yes</td>\n",
              "    </tr>\n",
              "    <tr>\n",
              "      <th>3018</th>\n",
              "      <td>ইউটিউবার দেখছি এমন বক্সচুদ ইউটিউবার তো দেখি না...</td>\n",
              "      <td>yes</td>\n",
              "    </tr>\n",
              "  </tbody>\n",
              "</table>\n",
              "<p>3019 rows × 2 columns</p>\n",
              "</div>\n",
              "      <button class=\"colab-df-convert\" onclick=\"convertToInteractive('df-2adbd5b8-deff-4b97-8581-210b199cc659')\"\n",
              "              title=\"Convert this dataframe to an interactive table.\"\n",
              "              style=\"display:none;\">\n",
              "        \n",
              "  <svg xmlns=\"http://www.w3.org/2000/svg\" height=\"24px\"viewBox=\"0 0 24 24\"\n",
              "       width=\"24px\">\n",
              "    <path d=\"M0 0h24v24H0V0z\" fill=\"none\"/>\n",
              "    <path d=\"M18.56 5.44l.94 2.06.94-2.06 2.06-.94-2.06-.94-.94-2.06-.94 2.06-2.06.94zm-11 1L8.5 8.5l.94-2.06 2.06-.94-2.06-.94L8.5 2.5l-.94 2.06-2.06.94zm10 10l.94 2.06.94-2.06 2.06-.94-2.06-.94-.94-2.06-.94 2.06-2.06.94z\"/><path d=\"M17.41 7.96l-1.37-1.37c-.4-.4-.92-.59-1.43-.59-.52 0-1.04.2-1.43.59L10.3 9.45l-7.72 7.72c-.78.78-.78 2.05 0 2.83L4 21.41c.39.39.9.59 1.41.59.51 0 1.02-.2 1.41-.59l7.78-7.78 2.81-2.81c.8-.78.8-2.07 0-2.86zM5.41 20L4 18.59l7.72-7.72 1.47 1.35L5.41 20z\"/>\n",
              "  </svg>\n",
              "      </button>\n",
              "      \n",
              "  <style>\n",
              "    .colab-df-container {\n",
              "      display:flex;\n",
              "      flex-wrap:wrap;\n",
              "      gap: 12px;\n",
              "    }\n",
              "\n",
              "    .colab-df-convert {\n",
              "      background-color: #E8F0FE;\n",
              "      border: none;\n",
              "      border-radius: 50%;\n",
              "      cursor: pointer;\n",
              "      display: none;\n",
              "      fill: #1967D2;\n",
              "      height: 32px;\n",
              "      padding: 0 0 0 0;\n",
              "      width: 32px;\n",
              "    }\n",
              "\n",
              "    .colab-df-convert:hover {\n",
              "      background-color: #E2EBFA;\n",
              "      box-shadow: 0px 1px 2px rgba(60, 64, 67, 0.3), 0px 1px 3px 1px rgba(60, 64, 67, 0.15);\n",
              "      fill: #174EA6;\n",
              "    }\n",
              "\n",
              "    [theme=dark] .colab-df-convert {\n",
              "      background-color: #3B4455;\n",
              "      fill: #D2E3FC;\n",
              "    }\n",
              "\n",
              "    [theme=dark] .colab-df-convert:hover {\n",
              "      background-color: #434B5C;\n",
              "      box-shadow: 0px 1px 3px 1px rgba(0, 0, 0, 0.15);\n",
              "      filter: drop-shadow(0px 1px 2px rgba(0, 0, 0, 0.3));\n",
              "      fill: #FFFFFF;\n",
              "    }\n",
              "  </style>\n",
              "\n",
              "      <script>\n",
              "        const buttonEl =\n",
              "          document.querySelector('#df-2adbd5b8-deff-4b97-8581-210b199cc659 button.colab-df-convert');\n",
              "        buttonEl.style.display =\n",
              "          google.colab.kernel.accessAllowed ? 'block' : 'none';\n",
              "\n",
              "        async function convertToInteractive(key) {\n",
              "          const element = document.querySelector('#df-2adbd5b8-deff-4b97-8581-210b199cc659');\n",
              "          const dataTable =\n",
              "            await google.colab.kernel.invokeFunction('convertToInteractive',\n",
              "                                                     [key], {});\n",
              "          if (!dataTable) return;\n",
              "\n",
              "          const docLinkHtml = 'Like what you see? Visit the ' +\n",
              "            '<a target=\"_blank\" href=https://colab.research.google.com/notebooks/data_table.ipynb>data table notebook</a>'\n",
              "            + ' to learn more about interactive tables.';\n",
              "          element.innerHTML = '';\n",
              "          dataTable['output_type'] = 'display_data';\n",
              "          await google.colab.output.renderOutput(dataTable, element);\n",
              "          const docLink = document.createElement('div');\n",
              "          docLink.innerHTML = docLinkHtml;\n",
              "          element.appendChild(docLink);\n",
              "        }\n",
              "      </script>\n",
              "    </div>\n",
              "  </div>\n",
              "  "
            ]
          },
          "metadata": {},
          "execution_count": 118
        }
      ]
    },
    {
      "cell_type": "code",
      "metadata": {
        "id": "ZK29D38UyFjX",
        "outputId": "d3810a56-2760-4e2a-e255-f52ad5fcd299",
        "colab": {
          "base_uri": "https://localhost:8080/"
        }
      },
      "source": [
        "news_data.shape"
      ],
      "execution_count": null,
      "outputs": [
        {
          "output_type": "execute_result",
          "data": {
            "text/plain": [
              "(3019, 2)"
            ]
          },
          "metadata": {},
          "execution_count": 119
        }
      ]
    },
    {
      "cell_type": "code",
      "source": [
        "news_data.isnull().sum()"
      ],
      "metadata": {
        "colab": {
          "base_uri": "https://localhost:8080/"
        },
        "id": "YoMlgLFqjfC6",
        "outputId": "67b4a486-3917-44b4-d4f3-b64de5cac974"
      },
      "execution_count": null,
      "outputs": [
        {
          "output_type": "execute_result",
          "data": {
            "text/plain": [
              "Sentence    0\n",
              "Type        3\n",
              "dtype: int64"
            ]
          },
          "metadata": {},
          "execution_count": 120
        }
      ]
    },
    {
      "cell_type": "code",
      "source": [
        "news_data = news_data.fillna('')"
      ],
      "metadata": {
        "id": "Dcbxz7eyjhWq"
      },
      "execution_count": null,
      "outputs": []
    },
    {
      "cell_type": "code",
      "source": [
        "news_data.isnull().sum()"
      ],
      "metadata": {
        "colab": {
          "base_uri": "https://localhost:8080/"
        },
        "id": "mMNgDiO_jksy",
        "outputId": "4f36b770-aa86-4576-a64d-d860d6a1f65e"
      },
      "execution_count": null,
      "outputs": [
        {
          "output_type": "execute_result",
          "data": {
            "text/plain": [
              "Sentence    0\n",
              "Type        0\n",
              "dtype: int64"
            ]
          },
          "metadata": {},
          "execution_count": 122
        }
      ]
    },
    {
      "cell_type": "code",
      "source": [
        "news_data['content'] = news_data['Sentence']"
      ],
      "metadata": {
        "id": "7vX2RBqnjnST"
      },
      "execution_count": null,
      "outputs": []
    },
    {
      "cell_type": "code",
      "source": [
        "print(news_data['content'])"
      ],
      "metadata": {
        "colab": {
          "base_uri": "https://localhost:8080/"
        },
        "id": "62z8yJuKkL8L",
        "outputId": "be4db282-e1db-4a2c-b12d-5907e84d02ec"
      },
      "execution_count": null,
      "outputs": [
        {
          "output_type": "stream",
          "name": "stdout",
          "text": [
            "0                 যা‌দের মন সুন্দর তা‌দের ছ‌বিও সুন্দর।\\n\n",
            "1           আল্লাহ সুবহানাহু ওয়াতাআ'লা নেক হায়াৎ দান করুন\n",
            "2                           আলহামদুলিল্লাহ ভালো সিদ্ধান্ত\n",
            "3       আপনাকে নিচে নামানোর জন্য অনেকেই অনেক কিছু বলবে...\n",
            "4                          হিরো আলমের বউ ক্ষেপতেসো ক্যান?\n",
            "                              ...                        \n",
            "3014                                  ছাগলের বাচ্চা সিয়াম\n",
            "3015          নাছিরের ধন অনেক বড় তাই মেয়েটা পাগল হয়ে গেছে\n",
            "3016        বুকা ভারতের সাথে শেষ বলে একটা রান করতে পারলে \n",
            "3017                    এ মালাউনের মুখে জুতা মারেন সবাই  \n",
            "3018    ইউটিউবার দেখছি এমন বক্সচুদ ইউটিউবার তো দেখি না...\n",
            "Name: content, Length: 3019, dtype: object\n"
          ]
        }
      ]
    },
    {
      "cell_type": "code",
      "source": [
        "# separating the data & label\n",
        "\n",
        "## Get the Independent Features\n",
        "X = news_data.drop(columns='Type', axis=1)\n",
        "## Get the Dependent features\n",
        "Y = news_data['Type']"
      ],
      "metadata": {
        "id": "6ERph7m-kOp6"
      },
      "execution_count": null,
      "outputs": []
    },
    {
      "cell_type": "code",
      "source": [
        "Y.value_counts()"
      ],
      "metadata": {
        "colab": {
          "base_uri": "https://localhost:8080/"
        },
        "id": "ngx0CuorkgL5",
        "outputId": "bc0576dc-aec6-4d58-b476-0cdb6889f559"
      },
      "execution_count": null,
      "outputs": [
        {
          "output_type": "execute_result",
          "data": {
            "text/plain": [
              "Yes    1621\n",
              "No     1178\n",
              "yes     217\n",
              "          3\n",
              "Name: Type, dtype: int64"
            ]
          },
          "metadata": {},
          "execution_count": 126
        }
      ]
    },
    {
      "cell_type": "code",
      "source": [
        "X.shape"
      ],
      "metadata": {
        "colab": {
          "base_uri": "https://localhost:8080/"
        },
        "id": "XziuwshGkixZ",
        "outputId": "7cb9ba21-20ec-46fd-f8f0-0c2de7c90ab8"
      },
      "execution_count": null,
      "outputs": [
        {
          "output_type": "execute_result",
          "data": {
            "text/plain": [
              "(3019, 2)"
            ]
          },
          "metadata": {},
          "execution_count": 127
        }
      ]
    },
    {
      "cell_type": "code",
      "source": [
        "Y.shape"
      ],
      "metadata": {
        "colab": {
          "base_uri": "https://localhost:8080/"
        },
        "id": "weUhiwyXkkma",
        "outputId": "61ccf6a7-1aec-45f1-ecb1-3cd7a374d29a"
      },
      "execution_count": null,
      "outputs": [
        {
          "output_type": "execute_result",
          "data": {
            "text/plain": [
              "(3019,)"
            ]
          },
          "metadata": {},
          "execution_count": 128
        }
      ]
    },
    {
      "cell_type": "code",
      "source": [
        "print(X)\n",
        "print(Y)"
      ],
      "metadata": {
        "colab": {
          "base_uri": "https://localhost:8080/"
        },
        "id": "1w0iWuuRkmoj",
        "outputId": "422b2a94-45b7-403f-8f95-72f34c4c5b00"
      },
      "execution_count": null,
      "outputs": [
        {
          "output_type": "stream",
          "name": "stdout",
          "text": [
            "                                               Sentence  \\\n",
            "0               যা‌দের মন সুন্দর তা‌দের ছ‌বিও সুন্দর।\\n   \n",
            "1         আল্লাহ সুবহানাহু ওয়াতাআ'লা নেক হায়াৎ দান করুন   \n",
            "2                         আলহামদুলিল্লাহ ভালো সিদ্ধান্ত   \n",
            "3     আপনাকে নিচে নামানোর জন্য অনেকেই অনেক কিছু বলবে...   \n",
            "4                        হিরো আলমের বউ ক্ষেপতেসো ক্যান?   \n",
            "...                                                 ...   \n",
            "3014                                ছাগলের বাচ্চা সিয়াম   \n",
            "3015        নাছিরের ধন অনেক বড় তাই মেয়েটা পাগল হয়ে গেছে   \n",
            "3016      বুকা ভারতের সাথে শেষ বলে একটা রান করতে পারলে    \n",
            "3017                  এ মালাউনের মুখে জুতা মারেন সবাই     \n",
            "3018  ইউটিউবার দেখছি এমন বক্সচুদ ইউটিউবার তো দেখি না...   \n",
            "\n",
            "                                                content  \n",
            "0               যা‌দের মন সুন্দর তা‌দের ছ‌বিও সুন্দর।\\n  \n",
            "1         আল্লাহ সুবহানাহু ওয়াতাআ'লা নেক হায়াৎ দান করুন  \n",
            "2                         আলহামদুলিল্লাহ ভালো সিদ্ধান্ত  \n",
            "3     আপনাকে নিচে নামানোর জন্য অনেকেই অনেক কিছু বলবে...  \n",
            "4                        হিরো আলমের বউ ক্ষেপতেসো ক্যান?  \n",
            "...                                                 ...  \n",
            "3014                                ছাগলের বাচ্চা সিয়াম  \n",
            "3015        নাছিরের ধন অনেক বড় তাই মেয়েটা পাগল হয়ে গেছে  \n",
            "3016      বুকা ভারতের সাথে শেষ বলে একটা রান করতে পারলে   \n",
            "3017                  এ মালাউনের মুখে জুতা মারেন সবাই    \n",
            "3018  ইউটিউবার দেখছি এমন বক্সচুদ ইউটিউবার তো দেখি না...  \n",
            "\n",
            "[3019 rows x 2 columns]\n",
            "0        No\n",
            "1        No\n",
            "2        No\n",
            "3        No\n",
            "4       Yes\n",
            "       ... \n",
            "3014    yes\n",
            "3015    yes\n",
            "3016    yes\n",
            "3017    yes\n",
            "3018    yes\n",
            "Name: Type, Length: 3019, dtype: object\n"
          ]
        }
      ]
    },
    {
      "cell_type": "code",
      "source": [
        "#separating the data and label\n",
        "X = news_data['content'].values\n",
        "Y = news_data['Type'].values"
      ],
      "metadata": {
        "id": "4KeTFLNMkpO6"
      },
      "execution_count": null,
      "outputs": []
    },
    {
      "cell_type": "code",
      "source": [
        "from sklearn.feature_extraction.text import TfidfTransformer\n",
        "from sklearn.feature_extraction.text import TfidfVectorizer\n",
        "vectorizer = TfidfVectorizer()\n",
        "vectorizer.fit(X)\n",
        "X = vectorizer.transform(X)"
      ],
      "metadata": {
        "id": "iBTXCnF9lSYS"
      },
      "execution_count": null,
      "outputs": []
    },
    {
      "cell_type": "code",
      "source": [
        "X_train, X_test, Y_train, Y_test = train_test_split(X, Y, test_size = 0.2, stratify=Y, random_state=2)"
      ],
      "metadata": {
        "id": "Swp9yeL3k3pa"
      },
      "execution_count": null,
      "outputs": []
    },
    {
      "cell_type": "markdown",
      "source": [
        "# **Logistic**"
      ],
      "metadata": {
        "id": "oSJMeDJCqATh"
      }
    },
    {
      "cell_type": "code",
      "source": [
        "from sklearn.metrics import accuracy_score\n",
        "model = LogisticRegression()\n",
        "model.fit(X_train, Y_train)\n",
        "X_train_prediction = model.predict(X_train)\n",
        "training_data_accuracy = accuracy_score(X_train_prediction, Y_train)"
      ],
      "metadata": {
        "id": "KLGgS2WJlH8b"
      },
      "execution_count": null,
      "outputs": []
    },
    {
      "cell_type": "code",
      "source": [
        "print('Accuracy score of the training data : ', training_data_accuracy)"
      ],
      "metadata": {
        "colab": {
          "base_uri": "https://localhost:8080/"
        },
        "id": "VPlLcHnNl5NC",
        "outputId": "f9f9fc05-6a1a-4d41-d819-4bd2c43c0033"
      },
      "execution_count": null,
      "outputs": [
        {
          "output_type": "stream",
          "name": "stdout",
          "text": [
            "Accuracy score of the training data :  0.8405797101449275\n"
          ]
        }
      ]
    },
    {
      "cell_type": "code",
      "source": [
        "from sklearn import metrics\n",
        "from sklearn.metrics import plot_confusion_matrix\n",
        "import numpy as np\n",
        "import mlxtend\n",
        "import itertools\n",
        "\n",
        "model.fit(X_train, Y_train)\n",
        "prediction = model.predict(X_test)\n",
        "score = metrics.accuracy_score(Y_test, prediction)\n",
        "print(\"accuracy:   %0.3f\" % score)\n",
        "cm1 = metrics.confusion_matrix(Y_test, prediction)\n",
        "plot_confusion_matrix(model, X_test, Y_test)\n",
        "plt.show()"
      ],
      "metadata": {
        "colab": {
          "base_uri": "https://localhost:8080/",
          "height": 354
        },
        "id": "ZMUPCKFGl_lU",
        "outputId": "5e5f4e0e-3887-41bf-f60a-b2e9da8a68a8"
      },
      "execution_count": null,
      "outputs": [
        {
          "output_type": "stream",
          "name": "stdout",
          "text": [
            "accuracy:   0.796\n"
          ]
        },
        {
          "output_type": "stream",
          "name": "stderr",
          "text": [
            "/usr/local/lib/python3.7/dist-packages/sklearn/utils/deprecation.py:87: FutureWarning: Function plot_confusion_matrix is deprecated; Function `plot_confusion_matrix` is deprecated in 1.0 and will be removed in 1.2. Use one of the class methods: ConfusionMatrixDisplay.from_predictions or ConfusionMatrixDisplay.from_estimator.\n",
            "  warnings.warn(msg, category=FutureWarning)\n"
          ]
        },
        {
          "output_type": "display_data",
          "data": {
            "text/plain": [
              "<Figure size 432x288 with 2 Axes>"
            ],
            "image/png": "[encoded data removed]"
          },
          "metadata": {
            "needs_background": "light"
          }
        }
      ]
    },
    {
      "cell_type": "code",
      "source": [
        "from sklearn.metrics import classification_report\n",
        "print(classification_report(Y_test, prediction))"
      ],
      "metadata": {
        "colab": {
          "base_uri": "https://localhost:8080/"
        },
        "id": "hs2FAo9boQKy",
        "outputId": "0e68d10d-916b-462a-bb4d-3e9fa16a98e5"
      },
      "execution_count": null,
      "outputs": [
        {
          "output_type": "stream",
          "name": "stdout",
          "text": [
            "              precision    recall  f1-score   support\n",
            "\n",
            "                   0.00      0.00      0.00         1\n",
            "          No       0.88      0.76      0.82       236\n",
            "         Yes       0.75      0.93      0.83       324\n",
            "         yes       0.00      0.00      0.00        43\n",
            "\n",
            "    accuracy                           0.80       604\n",
            "   macro avg       0.41      0.42      0.41       604\n",
            "weighted avg       0.75      0.80      0.77       604\n",
            "\n"
          ]
        },
        {
          "output_type": "stream",
          "name": "stderr",
          "text": [
            "/usr/local/lib/python3.7/dist-packages/sklearn/metrics/_classification.py:1318: UndefinedMetricWarning: Precision and F-score are ill-defined and being set to 0.0 in labels with no predicted samples. Use `zero_division` parameter to control this behavior.\n",
            "  _warn_prf(average, modifier, msg_start, len(result))\n",
            "/usr/local/lib/python3.7/dist-packages/sklearn/metrics/_classification.py:1318: UndefinedMetricWarning: Precision and F-score are ill-defined and being set to 0.0 in labels with no predicted samples. Use `zero_division` parameter to control this behavior.\n",
            "  _warn_prf(average, modifier, msg_start, len(result))\n",
            "/usr/local/lib/python3.7/dist-packages/sklearn/metrics/_classification.py:1318: UndefinedMetricWarning: Precision and F-score are ill-defined and being set to 0.0 in labels with no predicted samples. Use `zero_division` parameter to control this behavior.\n",
            "  _warn_prf(average, modifier, msg_start, len(result))\n"
          ]
        }
      ]
    },
    {
      "cell_type": "markdown",
      "source": [
        "# Multinomial Naive **Bayes**"
      ],
      "metadata": {
        "id": "jGR6VrHHqIYh"
      }
    },
    {
      "cell_type": "code",
      "source": [
        "#let's implement the model : Multinomial Naive Bayes\n",
        "from sklearn.naive_bayes import MultinomialNB\n",
        "classifier=MultinomialNB()"
      ],
      "metadata": {
        "id": "X8SuStm7nDlK"
      },
      "execution_count": null,
      "outputs": []
    },
    {
      "cell_type": "code",
      "source": [
        "from sklearn import metrics\n",
        "import numpy as np\n",
        "import itertools\n",
        "\n",
        "classifier.fit(X_train, Y_train)\n",
        "prediction1 = classifier.predict(X_test)\n",
        "score = metrics.accuracy_score(Y_test, prediction1)\n",
        "print(\"accuracy:   %0.3f\" % score)\n",
        "cm1 = metrics.confusion_matrix(Y_test, prediction1)\n",
        "plot_confusion_matrix(classifier, X_test, Y_test)\n",
        "plt.show()"
      ],
      "metadata": {
        "colab": {
          "base_uri": "https://localhost:8080/",
          "height": 351
        },
        "id": "ujzWPxCInHyo",
        "outputId": "3d2a8daa-d7eb-4fdd-a4d5-64c79175998a"
      },
      "execution_count": null,
      "outputs": [
        {
          "output_type": "stream",
          "name": "stdout",
          "text": [
            "accuracy:   0.791\n"
          ]
        },
        {
          "output_type": "stream",
          "name": "stderr",
          "text": [
            "/usr/local/lib/python3.7/dist-packages/sklearn/utils/deprecation.py:87: FutureWarning: Function plot_confusion_matrix is deprecated; Function `plot_confusion_matrix` is deprecated in 1.0 and will be removed in 1.2. Use one of the class methods: ConfusionMatrixDisplay.from_predictions or ConfusionMatrixDisplay.from_estimator.\n",
            "  warnings.warn(msg, category=FutureWarning)\n"
          ]
        },
        {
          "output_type": "display_data",
          "data": {
            "text/plain": [
              "<Figure size 432x288 with 2 Axes>"
            ],
            "image/png": "[encoded data removed]"
          },
          "metadata": {
            "needs_background": "light"
          }
        }
      ]
    },
    {
      "cell_type": "code",
      "source": [
        "X_new = X_test[0]\n",
        "\n",
        "prediction = model.predict(X_new)\n",
        "print(prediction)\n",
        "\n",
        "if (prediction[0]==0):\n",
        "  print('The news is Real')\n",
        "else:\n",
        "  print('The news is Fake')"
      ],
      "metadata": {
        "colab": {
          "base_uri": "https://localhost:8080/"
        },
        "id": "0jFRrbLrnTlR",
        "outputId": "5105012e-64fa-4a84-f48e-1df97e87c370"
      },
      "execution_count": null,
      "outputs": [
        {
          "output_type": "stream",
          "name": "stdout",
          "text": [
            "['Yes']\n",
            "The news is Fake\n"
          ]
        }
      ]
    },
    {
      "cell_type": "code",
      "source": [
        "from sklearn.metrics import classification_report\n",
        "print(classification_report(Y_test,prediction1))"
      ],
      "metadata": {
        "colab": {
          "base_uri": "https://localhost:8080/"
        },
        "id": "3uXrQYUjnzuL",
        "outputId": "c2a0e8a5-9e67-477b-881e-ced1a6c9c4a1"
      },
      "execution_count": null,
      "outputs": [
        {
          "output_type": "stream",
          "name": "stdout",
          "text": [
            "              precision    recall  f1-score   support\n",
            "\n",
            "                   0.00      0.00      0.00         1\n",
            "          No       0.83      0.80      0.81       236\n",
            "         Yes       0.77      0.90      0.83       324\n",
            "         yes       0.00      0.00      0.00        43\n",
            "\n",
            "    accuracy                           0.79       604\n",
            "   macro avg       0.40      0.42      0.41       604\n",
            "weighted avg       0.74      0.79      0.76       604\n",
            "\n"
          ]
        },
        {
          "output_type": "stream",
          "name": "stderr",
          "text": [
            "/usr/local/lib/python3.7/dist-packages/sklearn/metrics/_classification.py:1318: UndefinedMetricWarning: Precision and F-score are ill-defined and being set to 0.0 in labels with no predicted samples. Use `zero_division` parameter to control this behavior.\n",
            "  _warn_prf(average, modifier, msg_start, len(result))\n",
            "/usr/local/lib/python3.7/dist-packages/sklearn/metrics/_classification.py:1318: UndefinedMetricWarning: Precision and F-score are ill-defined and being set to 0.0 in labels with no predicted samples. Use `zero_division` parameter to control this behavior.\n",
            "  _warn_prf(average, modifier, msg_start, len(result))\n",
            "/usr/local/lib/python3.7/dist-packages/sklearn/metrics/_classification.py:1318: UndefinedMetricWarning: Precision and F-score are ill-defined and being set to 0.0 in labels with no predicted samples. Use `zero_division` parameter to control this behavior.\n",
            "  _warn_prf(average, modifier, msg_start, len(result))\n"
          ]
        }
      ]
    },
    {
      "cell_type": "markdown",
      "source": [
        "## **RF**"
      ],
      "metadata": {
        "id": "Bk5p0KZiqPhJ"
      }
    },
    {
      "cell_type": "code",
      "source": [
        "from sklearn.ensemble import RandomForestClassifier\n",
        "rfmodel = RandomForestClassifier()\n",
        "rfmodel.fit(X_train,Y_train)"
      ],
      "metadata": {
        "colab": {
          "base_uri": "https://localhost:8080/"
        },
        "id": "jLQSLfh6qROx",
        "outputId": "7f9c40a3-d79a-41a8-b90d-7f28c29bb44b"
      },
      "execution_count": null,
      "outputs": [
        {
          "output_type": "execute_result",
          "data": {
            "text/plain": [
              "RandomForestClassifier()"
            ]
          },
          "metadata": {},
          "execution_count": 141
        }
      ]
    },
    {
      "cell_type": "code",
      "source": [
        "from sklearn import metrics\n",
        "import numpy as np\n",
        "import itertools\n",
        "\n",
        "rfmodel.fit(X_train, Y_train)\n",
        "prediction2 = rfmodel.predict(X_test)\n",
        "score = metrics.accuracy_score(Y_test, prediction2)\n",
        "print(\"accuracy:   %0.3f\" % score)\n",
        "cm1 = metrics.confusion_matrix(Y_test, prediction2)\n",
        "plot_confusion_matrix(rfmodel, X_test, Y_test)\n",
        "plt.show()"
      ],
      "metadata": {
        "colab": {
          "base_uri": "https://localhost:8080/",
          "height": 351
        },
        "id": "P9ZcI8jHqjNJ",
        "outputId": "b95d9a3d-7ce8-4484-9f7d-f782cba059e7"
      },
      "execution_count": null,
      "outputs": [
        {
          "output_type": "stream",
          "name": "stdout",
          "text": [
            "accuracy:   0.768\n"
          ]
        },
        {
          "output_type": "stream",
          "name": "stderr",
          "text": [
            "/usr/local/lib/python3.7/dist-packages/sklearn/utils/deprecation.py:87: FutureWarning: Function plot_confusion_matrix is deprecated; Function `plot_confusion_matrix` is deprecated in 1.0 and will be removed in 1.2. Use one of the class methods: ConfusionMatrixDisplay.from_predictions or ConfusionMatrixDisplay.from_estimator.\n",
            "  warnings.warn(msg, category=FutureWarning)\n"
          ]
        },
        {
          "output_type": "display_data",
          "data": {
            "text/plain": [
              "<Figure size 432x288 with 2 Axes>"
            ],
            "image/png": "[encoded data removed]"
          },
          "metadata": {
            "needs_background": "light"
          }
        }
      ]
    },
    {
      "cell_type": "code",
      "source": [
        "from sklearn.metrics import classification_report\n",
        "print(classification_report(Y_test,prediction2))"
      ],
      "metadata": {
        "id": "brG1eO2brFOB",
        "colab": {
          "base_uri": "https://localhost:8080/"
        },
        "outputId": "b11fe919-65a5-423f-980d-441a42d2a379"
      },
      "execution_count": null,
      "outputs": [
        {
          "output_type": "stream",
          "name": "stdout",
          "text": [
            "              precision    recall  f1-score   support\n",
            "\n",
            "                   0.00      0.00      0.00         1\n",
            "          No       0.84      0.78      0.81       236\n",
            "         Yes       0.75      0.86      0.80       324\n",
            "         yes       0.00      0.00      0.00        43\n",
            "\n",
            "    accuracy                           0.77       604\n",
            "   macro avg       0.40      0.41      0.40       604\n",
            "weighted avg       0.73      0.77      0.75       604\n",
            "\n"
          ]
        }
      ]
    },
    {
      "cell_type": "markdown",
      "source": [
        "# **SVM**"
      ],
      "metadata": {
        "id": "5L9wkifDrN3b"
      }
    },
    {
      "cell_type": "code",
      "source": [
        "from sklearn.svm import SVC\n",
        "smodel = SVC()\n",
        "smodel.fit(X_train,Y_train)"
      ],
      "metadata": {
        "id": "FjPnozAYrQZS",
        "colab": {
          "base_uri": "https://localhost:8080/"
        },
        "outputId": "d6b32082-c8af-453a-a40a-75631e19da50"
      },
      "execution_count": null,
      "outputs": [
        {
          "output_type": "execute_result",
          "data": {
            "text/plain": [
              "SVC()"
            ]
          },
          "metadata": {},
          "execution_count": 144
        }
      ]
    },
    {
      "cell_type": "code",
      "source": [
        "from sklearn import metrics\n",
        "import numpy as np\n",
        "import itertools\n",
        "\n",
        "smodel.fit(X_train, Y_train)\n",
        "prediction3 = rfmodel.predict(X_test)\n",
        "score = metrics.accuracy_score(Y_test, prediction3)\n",
        "print(\"accuracy:   %0.3f\" % score)\n",
        "cm1 = metrics.confusion_matrix(Y_test, prediction3)\n",
        "plot_confusion_matrix(smodel, X_test, Y_test)\n",
        "plt.show()"
      ],
      "metadata": {
        "id": "h_s3cV_0rSe7",
        "colab": {
          "base_uri": "https://localhost:8080/",
          "height": 351
        },
        "outputId": "2ab23647-d268-4862-8dc6-e84311c0aa30"
      },
      "execution_count": null,
      "outputs": [
        {
          "output_type": "stream",
          "name": "stdout",
          "text": [
            "accuracy:   0.768\n"
          ]
        },
        {
          "output_type": "stream",
          "name": "stderr",
          "text": [
            "/usr/local/lib/python3.7/dist-packages/sklearn/utils/deprecation.py:87: FutureWarning: Function plot_confusion_matrix is deprecated; Function `plot_confusion_matrix` is deprecated in 1.0 and will be removed in 1.2. Use one of the class methods: ConfusionMatrixDisplay.from_predictions or ConfusionMatrixDisplay.from_estimator.\n",
            "  warnings.warn(msg, category=FutureWarning)\n"
          ]
        },
        {
          "output_type": "display_data",
          "data": {
            "text/plain": [
              "<Figure size 432x288 with 2 Axes>"
            ],
            "image/png": "[encoded data removed]"
          },
          "metadata": {
            "needs_background": "light"
          }
        }
      ]
    },
    {
      "cell_type": "code",
      "source": [
        "from sklearn.metrics import classification_report\n",
        "print(classification_report(Y_test,prediction2))"
      ],
      "metadata": {
        "id": "bBJfnYAnrbGq",
        "colab": {
          "base_uri": "https://localhost:8080/"
        },
        "outputId": "9073d950-d403-4fed-e9ed-e93ff6ba525e"
      },
      "execution_count": null,
      "outputs": [
        {
          "output_type": "stream",
          "name": "stdout",
          "text": [
            "              precision    recall  f1-score   support\n",
            "\n",
            "                   0.00      0.00      0.00         1\n",
            "          No       0.84      0.78      0.81       236\n",
            "         Yes       0.75      0.86      0.80       324\n",
            "         yes       0.00      0.00      0.00        43\n",
            "\n",
            "    accuracy                           0.77       604\n",
            "   macro avg       0.40      0.41      0.40       604\n",
            "weighted avg       0.73      0.77      0.75       604\n",
            "\n"
          ]
        }
      ]
    },
    {
      "cell_type": "markdown",
      "source": [
        "**KNN**"
      ],
      "metadata": {
        "id": "f-Aket1iQe_o"
      }
    },
    {
      "cell_type": "code",
      "source": [
        "from sklearn.neighbors import KNeighborsClassifier"
      ],
      "metadata": {
        "id": "7wEeIfSLtFZv"
      },
      "execution_count": null,
      "outputs": []
    },
    {
      "cell_type": "code",
      "source": [
        "from sklearn.metrics import accuracy_score\n",
        "model = KNeighborsClassifier()\n",
        "model.fit(X_train, Y_train)\n",
        "X_train_prediction = model.predict(X_train)\n",
        "training_data_accuracy = accuracy_score(X_train_prediction, Y_train)"
      ],
      "metadata": {
        "id": "7kBTqUmotDZ-"
      },
      "execution_count": null,
      "outputs": []
    },
    {
      "cell_type": "markdown",
      "source": [],
      "metadata": {
        "id": "sEu_xxv5tDMk"
      }
    },
    {
      "cell_type": "code",
      "source": [
        "from sklearn.neighbors import KNeighborsClassifier"
      ],
      "metadata": {
        "id": "y4LSNLcWPfNt"
      },
      "execution_count": null,
      "outputs": []
    },
    {
      "cell_type": "code",
      "source": [
        "X_train,X_test,Y_train,Y_test = train_test_split(X,Y,test_size=0.2)"
      ],
      "metadata": {
        "id": "573sNPu_P0CG"
      },
      "execution_count": null,
      "outputs": []
    },
    {
      "cell_type": "code",
      "source": [
        "l= LabelEncoder()\n",
        "Y_train = l.fit_transform(Y_train)"
      ],
      "metadata": {
        "id": "awqO7PD4P_fb"
      },
      "execution_count": null,
      "outputs": []
    },
    {
      "cell_type": "code",
      "source": [
        "Y_train"
      ],
      "metadata": {
        "colab": {
          "base_uri": "https://localhost:8080/"
        },
        "id": "x83Dc9VLQGOQ",
        "outputId": "93b59810-8f6d-4243-a803-99e808d28c57"
      },
      "execution_count": null,
      "outputs": [
        {
          "output_type": "execute_result",
          "data": {
            "text/plain": [
              "array([1, 2, 2, ..., 1, 2, 2])"
            ]
          },
          "metadata": {},
          "execution_count": 152
        }
      ]
    },
    {
      "cell_type": "code",
      "source": [
        "knn = KNeighborsClassifier(n_neighbors=3)\n",
        "knn.fit(X_train,Y_train)\n",
        "knn.predict(X_test)"
      ],
      "metadata": {
        "colab": {
          "base_uri": "https://localhost:8080/"
        },
        "id": "_2bY6AIXQMvf",
        "outputId": "68d26cd5-5ed2-488e-e131-8a86c60adc4e"
      },
      "execution_count": null,
      "outputs": [
        {
          "output_type": "execute_result",
          "data": {
            "text/plain": [
              "array([1, 2, 2, 2, 2, 2, 2, 1, 2, 2, 2, 2, 2, 2, 2, 2, 2, 2, 2, 2, 2, 2,\n",
              "       2, 2, 1, 1, 2, 2, 2, 2, 2, 2, 2, 2, 2, 1, 2, 2, 2, 2, 1, 2, 2, 2,\n",
              "       2, 1, 1, 2, 2, 2, 2, 2, 2, 2, 2, 1, 2, 2, 2, 2, 2, 2, 2, 2, 2, 2,\n",
              "       2, 2, 2, 2, 2, 2, 2, 2, 2, 2, 1, 2, 2, 2, 2, 2, 1, 2, 2, 2, 2, 2,\n",
              "       2, 2, 2, 1, 2, 2, 2, 1, 2, 2, 2, 2, 2, 1, 2, 2, 1, 2, 2, 1, 2, 2,\n",
              "       2, 3, 2, 2, 2, 2, 2, 2, 2, 2, 2, 2, 1, 2, 2, 2, 2, 2, 2, 2, 2, 2,\n",
              "       2, 2, 2, 2, 2, 2, 2, 1, 2, 2, 1, 2, 2, 2, 2, 2, 2, 2, 2, 2, 2, 2,\n",
              "       2, 2, 2, 2, 2, 2, 2, 2, 2, 2, 2, 2, 2, 2, 2, 2, 2, 1, 1, 1, 2, 2,\n",
              "       2, 2, 2, 2, 2, 2, 2, 2, 2, 2, 2, 2, 2, 2, 2, 2, 2, 2, 2, 2, 2, 2,\n",
              "       1, 2, 2, 2, 2, 2, 2, 2, 2, 1, 2, 2, 2, 1, 2, 2, 2, 1, 2, 2, 2, 2,\n",
              "       1, 2, 2, 2, 2, 2, 2, 2, 2, 2, 2, 2, 2, 2, 2, 2, 2, 2, 2, 2, 2, 1,\n",
              "       2, 1, 2, 2, 2, 1, 2, 2, 2, 2, 2, 2, 2, 2, 1, 2, 2, 1, 2, 2, 2, 2,\n",
              "       2, 2, 1, 1, 2, 2, 2, 2, 2, 2, 2, 2, 2, 2, 2, 2, 1, 2, 2, 2, 2, 2,\n",
              "       2, 2, 1, 2, 2, 2, 2, 2, 2, 2, 2, 2, 2, 2, 2, 2, 2, 2, 2, 2, 2, 2,\n",
              "       2, 2, 2, 2, 2, 1, 2, 2, 1, 2, 2, 2, 2, 2, 2, 2, 2, 2, 2, 2, 2, 2,\n",
              "       2, 2, 2, 2, 1, 2, 2, 1, 2, 1, 2, 2, 2, 2, 1, 2, 2, 2, 2, 1, 2, 2,\n",
              "       2, 2, 2, 2, 2, 2, 2, 2, 2, 2, 1, 2, 1, 2, 2, 2, 2, 2, 2, 2, 2, 2,\n",
              "       2, 2, 2, 2, 2, 2, 2, 2, 2, 2, 2, 1, 2, 2, 2, 2, 2, 2, 2, 2, 2, 2,\n",
              "       2, 2, 2, 2, 2, 2, 2, 2, 2, 2, 1, 2, 2, 2, 2, 2, 2, 1, 1, 2, 2, 2,\n",
              "       2, 2, 2, 2, 2, 2, 2, 2, 2, 2, 2, 2, 2, 2, 2, 2, 1, 2, 2, 2, 2, 2,\n",
              "       2, 2, 2, 2, 2, 1, 2, 2, 2, 2, 2, 2, 2, 2, 2, 2, 1, 2, 1, 2, 2, 2,\n",
              "       2, 2, 2, 2, 2, 2, 2, 2, 1, 2, 2, 2, 2, 1, 2, 2, 2, 2, 2, 2, 2, 2,\n",
              "       2, 1, 1, 2, 2, 2, 2, 2, 2, 2, 3, 2, 2, 2, 2, 1, 1, 2, 2, 1, 2, 2,\n",
              "       2, 2, 2, 0, 2, 2, 1, 2, 2, 2, 2, 2, 2, 2, 2, 2, 2, 2, 2, 2, 2, 2,\n",
              "       2, 2, 2, 2, 2, 2, 1, 2, 2, 2, 2, 1, 2, 2, 2, 1, 2, 2, 2, 2, 2, 2,\n",
              "       2, 2, 2, 2, 2, 1, 2, 2, 1, 2, 1, 2, 2, 2, 2, 2, 1, 1, 1, 2, 2, 2,\n",
              "       2, 2, 1, 2, 2, 2, 2, 2, 2, 2, 2, 2, 2, 2, 2, 2, 2, 2, 2, 1, 2, 1,\n",
              "       2, 2, 2, 2, 2, 2, 2, 2, 2, 1])"
            ]
          },
          "metadata": {},
          "execution_count": 153
        }
      ]
    },
    {
      "cell_type": "code",
      "source": [
        "knn.score(X_train,Y_train)"
      ],
      "metadata": {
        "colab": {
          "base_uri": "https://localhost:8080/"
        },
        "id": "UD8aSd_mRT9E",
        "outputId": "ad54a1d7-9912-4ded-81bf-78211512425a"
      },
      "execution_count": null,
      "outputs": [
        {
          "output_type": "execute_result",
          "data": {
            "text/plain": [
              "0.7060041407867494"
            ]
          },
          "metadata": {},
          "execution_count": 154
        }
      ]
    },
    {
      "cell_type": "code",
      "source": [
        "Y_test = l.fit_transform(Y_test)\n",
        "Y_test"
      ],
      "metadata": {
        "colab": {
          "base_uri": "https://localhost:8080/"
        },
        "id": "RGINI6xXRoUH",
        "outputId": "11261872-08da-444f-92d1-966318bfc5b3"
      },
      "execution_count": null,
      "outputs": [
        {
          "output_type": "execute_result",
          "data": {
            "text/plain": [
              "array([1, 1, 2, 1, 2, 2, 2, 1, 3, 2, 1, 1, 1, 2, 1, 2, 2, 1, 1, 1, 2, 2,\n",
              "       2, 3, 1, 1, 1, 1, 2, 2, 2, 3, 2, 2, 1, 1, 3, 2, 2, 2, 1, 2, 2, 2,\n",
              "       3, 1, 3, 3, 2, 2, 1, 1, 2, 2, 1, 1, 2, 1, 2, 2, 1, 3, 2, 2, 1, 2,\n",
              "       0, 2, 2, 1, 1, 2, 2, 2, 2, 3, 1, 1, 1, 2, 1, 1, 1, 2, 2, 2, 2, 1,\n",
              "       1, 1, 2, 2, 2, 2, 1, 1, 2, 3, 3, 1, 1, 1, 1, 2, 1, 1, 2, 1, 2, 2,\n",
              "       2, 2, 3, 1, 2, 2, 1, 2, 1, 3, 2, 1, 1, 2, 2, 2, 1, 2, 1, 1, 2, 2,\n",
              "       3, 2, 2, 3, 2, 2, 1, 1, 1, 2, 1, 2, 2, 2, 2, 2, 2, 2, 1, 1, 1, 2,\n",
              "       3, 2, 3, 1, 2, 1, 2, 1, 2, 1, 2, 3, 2, 2, 1, 2, 2, 1, 1, 1, 2, 3,\n",
              "       1, 1, 1, 1, 2, 1, 2, 1, 2, 2, 2, 2, 3, 2, 2, 2, 1, 2, 2, 2, 1, 2,\n",
              "       1, 2, 1, 1, 1, 3, 1, 3, 2, 1, 2, 2, 2, 1, 2, 2, 2, 1, 1, 1, 2, 2,\n",
              "       2, 1, 2, 2, 1, 2, 2, 1, 1, 1, 2, 2, 1, 2, 2, 1, 3, 2, 1, 2, 2, 2,\n",
              "       1, 1, 2, 2, 2, 1, 1, 1, 2, 2, 3, 2, 2, 1, 1, 2, 2, 2, 2, 2, 1, 3,\n",
              "       2, 1, 1, 1, 1, 2, 2, 2, 2, 2, 3, 2, 1, 2, 2, 1, 1, 2, 2, 2, 2, 1,\n",
              "       1, 1, 1, 1, 2, 2, 1, 2, 1, 2, 2, 2, 3, 2, 1, 2, 2, 2, 2, 1, 2, 1,\n",
              "       3, 1, 2, 2, 1, 1, 3, 1, 2, 2, 2, 1, 2, 1, 2, 1, 1, 2, 1, 2, 2, 2,\n",
              "       2, 1, 1, 2, 1, 2, 1, 2, 2, 1, 1, 2, 1, 2, 1, 1, 2, 2, 2, 1, 1, 1,\n",
              "       2, 1, 2, 1, 2, 2, 2, 2, 1, 1, 1, 3, 2, 1, 2, 2, 2, 1, 2, 3, 2, 2,\n",
              "       2, 2, 1, 1, 3, 2, 1, 2, 2, 2, 2, 2, 2, 2, 2, 1, 2, 2, 2, 2, 1, 3,\n",
              "       2, 3, 2, 2, 2, 1, 1, 2, 1, 2, 1, 2, 2, 2, 2, 2, 2, 1, 1, 1, 3, 2,\n",
              "       2, 1, 2, 2, 1, 3, 2, 1, 2, 1, 1, 1, 1, 1, 2, 2, 1, 1, 2, 2, 1, 2,\n",
              "       2, 2, 2, 2, 2, 1, 2, 2, 2, 1, 3, 2, 2, 2, 2, 2, 1, 2, 1, 1, 2, 1,\n",
              "       1, 2, 2, 2, 2, 1, 2, 3, 2, 2, 2, 2, 2, 1, 2, 2, 2, 2, 1, 2, 1, 2,\n",
              "       2, 1, 1, 2, 2, 1, 1, 2, 2, 2, 2, 1, 2, 1, 3, 1, 1, 2, 1, 1, 1, 2,\n",
              "       2, 2, 1, 2, 1, 2, 2, 1, 1, 2, 1, 1, 2, 2, 2, 2, 2, 1, 2, 1, 2, 2,\n",
              "       2, 3, 1, 1, 2, 2, 1, 3, 1, 1, 1, 1, 2, 2, 2, 1, 2, 1, 2, 1, 2, 2,\n",
              "       1, 1, 2, 2, 1, 1, 2, 1, 1, 2, 1, 2, 1, 2, 1, 2, 2, 2, 1, 3, 2, 2,\n",
              "       2, 2, 2, 2, 2, 2, 1, 2, 2, 2, 2, 2, 2, 1, 1, 2, 1, 1, 1, 2, 2, 2,\n",
              "       2, 2, 1, 2, 1, 1, 1, 2, 2, 2])"
            ]
          },
          "metadata": {},
          "execution_count": 155
        }
      ]
    },
    {
      "cell_type": "code",
      "source": [
        "knn.score(X_test,Y_test)"
      ],
      "metadata": {
        "colab": {
          "base_uri": "https://localhost:8080/"
        },
        "id": "L_ilHJ4cR0nL",
        "outputId": "b5a35c0a-9e63-4307-acb7-f4f666313cf9"
      },
      "execution_count": null,
      "outputs": [
        {
          "output_type": "execute_result",
          "data": {
            "text/plain": [
              "0.609271523178808"
            ]
          },
          "metadata": {},
          "execution_count": 156
        }
      ]
    },
    {
      "cell_type": "markdown",
      "source": [
        "**KNN Regressor**"
      ],
      "metadata": {
        "id": "93-damSWmhH_"
      }
    },
    {
      "cell_type": "code",
      "source": [
        "from sklearn.neighbors import KNeighborsRegressor"
      ],
      "metadata": {
        "id": "0ybcZlVdiiLv"
      },
      "execution_count": null,
      "outputs": []
    },
    {
      "cell_type": "code",
      "source": [
        "knn1= KNeighborsRegressor(n_neighbors=3)\n",
        "knn1.fit(X_train,Y_train)\n",
        "knn1.predict(X_test)"
      ],
      "metadata": {
        "id": "Ko9pRiT4i4up",
        "colab": {
          "base_uri": "https://localhost:8080/"
        },
        "outputId": "123ef06c-51f5-4890-8cc3-fc22083d8365"
      },
      "execution_count": null,
      "outputs": [
        {
          "output_type": "execute_result",
          "data": {
            "text/plain": [
              "array([1.33333333, 2.        , 2.        , 2.        , 2.        ,\n",
              "       2.        , 2.        , 1.        , 1.66666667, 2.33333333,\n",
              "       2.        , 2.        , 1.66666667, 2.        , 2.        ,\n",
              "       2.        , 2.        , 2.        , 2.        , 1.66666667,\n",
              "       2.        , 2.33333333, 2.        , 1.66666667, 1.33333333,\n",
              "       1.        , 1.66666667, 2.        , 2.        , 1.66666667,\n",
              "       2.33333333, 2.        , 2.        , 2.        , 2.        ,\n",
              "       1.33333333, 2.        , 2.        , 2.        , 2.33333333,\n",
              "       1.33333333, 2.        , 2.33333333, 2.        , 2.        ,\n",
              "       1.33333333, 1.33333333, 1.66666667, 2.        , 2.        ,\n",
              "       2.        , 1.66666667, 2.        , 2.        , 2.        ,\n",
              "       1.33333333, 2.        , 2.        , 2.33333333, 2.33333333,\n",
              "       2.        , 2.        , 2.        , 2.        , 2.        ,\n",
              "       2.33333333, 2.33333333, 1.33333333, 2.        , 2.        ,\n",
              "       2.        , 2.        , 2.33333333, 2.33333333, 2.        ,\n",
              "       2.        , 1.33333333, 2.        , 2.        , 2.        ,\n",
              "       2.        , 2.        , 1.        , 2.        , 2.        ,\n",
              "       2.        , 2.        , 2.        , 2.        , 2.        ,\n",
              "       2.        , 2.        , 2.        , 1.66666667, 2.        ,\n",
              "       1.        , 2.        , 2.        , 2.        , 2.        ,\n",
              "       2.        , 1.33333333, 1.66666667, 2.33333333, 2.        ,\n",
              "       1.66666667, 1.66666667, 1.33333333, 2.        , 2.33333333,\n",
              "       2.33333333, 2.66666667, 2.        , 1.66666667, 2.33333333,\n",
              "       2.        , 2.        , 2.33333333, 2.        , 2.        ,\n",
              "       2.33333333, 2.        , 1.33333333, 2.        , 2.        ,\n",
              "       2.        , 2.        , 2.        , 2.        , 2.        ,\n",
              "       2.        , 2.        , 1.66666667, 2.        , 2.        ,\n",
              "       2.        , 2.33333333, 2.        , 2.        , 1.        ,\n",
              "       2.        , 2.        , 1.        , 2.        , 2.        ,\n",
              "       2.        , 2.        , 2.        , 2.33333333, 2.        ,\n",
              "       2.        , 2.        , 2.        , 2.        , 2.        ,\n",
              "       2.        , 2.        , 2.        , 2.        , 2.        ,\n",
              "       2.        , 2.        , 2.        , 2.        , 2.        ,\n",
              "       2.        , 1.66666667, 2.        , 1.66666667, 1.66666667,\n",
              "       2.33333333, 1.        , 1.33333333, 1.33333333, 2.        ,\n",
              "       1.66666667, 1.66666667, 1.66666667, 2.        , 2.        ,\n",
              "       2.33333333, 1.66666667, 2.        , 2.        , 2.        ,\n",
              "       2.        , 2.        , 2.33333333, 2.        , 2.        ,\n",
              "       1.66666667, 2.        , 2.        , 2.        , 2.        ,\n",
              "       2.        , 1.66666667, 2.        , 1.        , 2.        ,\n",
              "       2.        , 2.        , 2.        , 2.        , 2.        ,\n",
              "       2.        , 2.        , 1.33333333, 2.        , 2.33333333,\n",
              "       1.66666667, 1.        , 2.        , 2.        , 2.        ,\n",
              "       1.        , 2.        , 2.        , 2.        , 1.66666667,\n",
              "       2.        , 2.        , 2.        , 2.33333333, 2.        ,\n",
              "       2.        , 2.        , 2.        , 2.        , 2.        ,\n",
              "       2.        , 2.        , 2.        , 2.        , 2.33333333,\n",
              "       2.        , 1.66666667, 2.        , 2.        , 2.33333333,\n",
              "       1.66666667, 2.        , 2.        , 1.        , 1.66666667,\n",
              "       2.        , 2.33333333, 1.        , 2.        , 2.        ,\n",
              "       2.        , 2.        , 2.        , 1.66666667, 2.        ,\n",
              "       2.        , 1.33333333, 2.        , 2.        , 2.        ,\n",
              "       2.        , 1.66666667, 2.        , 1.66666667, 2.33333333,\n",
              "       2.        , 1.        , 1.33333333, 1.66666667, 2.        ,\n",
              "       2.        , 2.        , 1.66666667, 1.66666667, 2.        ,\n",
              "       2.        , 1.66666667, 2.        , 2.33333333, 2.        ,\n",
              "       1.        , 2.        , 2.        , 2.        , 2.        ,\n",
              "       2.33333333, 2.        , 2.        , 1.        , 2.        ,\n",
              "       2.        , 2.        , 1.66666667, 2.        , 2.        ,\n",
              "       2.        , 2.        , 2.        , 2.        , 2.        ,\n",
              "       2.        , 2.33333333, 2.33333333, 1.66666667, 2.        ,\n",
              "       2.        , 2.        , 2.        , 2.33333333, 2.        ,\n",
              "       2.        , 2.        , 1.66666667, 1.        , 2.        ,\n",
              "       2.        , 1.33333333, 2.        , 1.66666667, 2.        ,\n",
              "       2.        , 2.        , 2.        , 2.        , 2.        ,\n",
              "       2.        , 2.        , 2.        , 2.        , 2.        ,\n",
              "       1.66666667, 1.66666667, 2.        , 2.        , 1.33333333,\n",
              "       2.        , 2.        , 2.        , 2.        , 1.        ,\n",
              "       2.        , 2.        , 2.        , 2.        , 1.33333333,\n",
              "       2.        , 2.        , 2.        , 1.66666667, 1.        ,\n",
              "       2.        , 2.        , 2.        , 1.66666667, 2.        ,\n",
              "       2.        , 2.        , 2.        , 2.33333333, 2.        ,\n",
              "       2.        , 2.        , 1.        , 2.        , 2.        ,\n",
              "       2.        , 2.33333333, 2.        , 2.        , 2.        ,\n",
              "       2.        , 2.        , 2.        , 1.66666667, 2.        ,\n",
              "       2.        , 1.66666667, 2.        , 2.        , 2.        ,\n",
              "       2.        , 2.        , 2.        , 2.        , 1.66666667,\n",
              "       2.        , 1.66666667, 2.33333333, 2.        , 2.        ,\n",
              "       2.        , 2.        , 2.        , 2.        , 2.        ,\n",
              "       2.        , 1.66666667, 2.        , 2.        , 2.        ,\n",
              "       2.        , 2.        , 1.66666667, 2.        , 1.66666667,\n",
              "       2.        , 1.33333333, 2.        , 2.        , 2.        ,\n",
              "       2.        , 2.        , 2.        , 1.        , 1.33333333,\n",
              "       2.        , 1.66666667, 2.        , 2.        , 2.        ,\n",
              "       2.        , 1.66666667, 2.        , 2.        , 2.        ,\n",
              "       2.        , 2.        , 2.        , 2.        , 2.        ,\n",
              "       2.        , 2.        , 2.        , 2.        , 1.        ,\n",
              "       2.        , 2.        , 2.        , 2.        , 2.        ,\n",
              "       2.        , 2.        , 2.        , 2.        , 2.        ,\n",
              "       1.33333333, 2.        , 2.        , 2.        , 2.        ,\n",
              "       2.33333333, 1.66666667, 2.        , 2.33333333, 2.        ,\n",
              "       2.        , 1.        , 2.        , 1.        , 2.        ,\n",
              "       1.66666667, 2.        , 2.        , 1.66666667, 2.        ,\n",
              "       2.        , 2.        , 2.        , 2.        , 2.        ,\n",
              "       1.33333333, 2.        , 2.        , 2.        , 2.        ,\n",
              "       2.        , 2.        , 2.        , 2.        , 2.        ,\n",
              "       2.        , 2.        , 2.        , 2.        , 2.33333333,\n",
              "       1.33333333, 1.        , 2.        , 2.        , 2.        ,\n",
              "       1.66666667, 2.33333333, 2.        , 2.        , 2.33333333,\n",
              "       1.66666667, 2.        , 2.33333333, 2.        , 1.33333333,\n",
              "       1.33333333, 2.33333333, 1.66666667, 2.        , 2.        ,\n",
              "       2.        , 2.        , 2.        , 2.        , 1.66666667,\n",
              "       1.66666667, 2.        , 2.        , 2.        , 2.        ,\n",
              "       2.        , 2.        , 2.        , 2.        , 2.        ,\n",
              "       2.        , 2.        , 1.66666667, 2.        , 2.        ,\n",
              "       2.        , 2.        , 2.        , 2.        , 2.        ,\n",
              "       2.33333333, 2.        , 2.        , 2.        , 1.        ,\n",
              "       2.        , 2.        , 2.        , 1.66666667, 1.        ,\n",
              "       2.        , 2.33333333, 2.        , 1.        , 2.33333333,\n",
              "       2.        , 2.        , 2.        , 2.        , 2.        ,\n",
              "       1.66666667, 2.        , 2.33333333, 2.        , 1.66666667,\n",
              "       1.        , 2.        , 2.33333333, 1.33333333, 2.33333333,\n",
              "       1.        , 2.        , 2.        , 2.33333333, 2.        ,\n",
              "       2.        , 2.        , 1.33333333, 1.        , 2.        ,\n",
              "       2.        , 2.        , 2.        , 2.        , 1.        ,\n",
              "       2.33333333, 2.        , 2.33333333, 2.        , 2.        ,\n",
              "       2.        , 2.        , 2.        , 2.        , 2.33333333,\n",
              "       2.        , 2.        , 2.33333333, 2.        , 2.        ,\n",
              "       1.66666667, 2.        , 2.        , 2.        , 2.        ,\n",
              "       2.        , 1.66666667, 2.        , 2.        , 1.66666667,\n",
              "       2.        , 2.33333333, 2.        , 1.33333333])"
            ]
          },
          "metadata": {},
          "execution_count": 158
        }
      ]
    },
    {
      "cell_type": "code",
      "source": [
        "knn1.score(X_train,Y_train)"
      ],
      "metadata": {
        "id": "O32R34MGjI0G",
        "colab": {
          "base_uri": "https://localhost:8080/"
        },
        "outputId": "f7b1f9d9-99f7-48b1-eb9e-aa256a706b05"
      },
      "execution_count": null,
      "outputs": [
        {
          "output_type": "execute_result",
          "data": {
            "text/plain": [
              "0.5358235838253931"
            ]
          },
          "metadata": {},
          "execution_count": 159
        }
      ]
    },
    {
      "cell_type": "code",
      "source": [
        "knn1.score(X_test,Y_test)"
      ],
      "metadata": {
        "id": "XQUsA_4tjNdd",
        "colab": {
          "base_uri": "https://localhost:8080/"
        },
        "outputId": "5975993c-a756-4ccc-a144-85376b415b2a"
      },
      "execution_count": null,
      "outputs": [
        {
          "output_type": "execute_result",
          "data": {
            "text/plain": [
              "-0.07109388734741318"
            ]
          },
          "metadata": {},
          "execution_count": 160
        }
      ]
    },
    {
      "cell_type": "markdown",
      "source": [
        "**Gradient Boosting Algorithm**"
      ],
      "metadata": {
        "id": "s4gTMREBjogC"
      }
    },
    {
      "cell_type": "code",
      "source": [
        "from sklearn.ensemble import GradientBoostingClassifier\n",
        "GBC=GradientBoostingClassifier(n_estimators=3)\n",
        "GBC.fit(X_train,Y_train)\n",
        "GBC.predict(X_test)"
      ],
      "metadata": {
        "id": "UaFGt8JtjgI1",
        "colab": {
          "base_uri": "https://localhost:8080/"
        },
        "outputId": "b87f5b02-e36f-4709-c5b5-1049e02bb4d6"
      },
      "execution_count": null,
      "outputs": [
        {
          "output_type": "execute_result",
          "data": {
            "text/plain": [
              "array([1, 1, 2, 2, 2, 2, 2, 1, 2, 2, 1, 2, 2, 2, 2, 2, 2, 2, 2, 2, 2, 2,\n",
              "       2, 2, 1, 1, 1, 1, 2, 2, 2, 2, 2, 2, 2, 1, 2, 1, 2, 2, 2, 2, 2, 2,\n",
              "       2, 2, 2, 2, 2, 2, 1, 2, 2, 2, 2, 1, 2, 1, 2, 2, 2, 2, 2, 2, 1, 2,\n",
              "       1, 2, 2, 1, 2, 2, 2, 2, 2, 2, 1, 1, 2, 2, 1, 2, 1, 2, 2, 1, 2, 2,\n",
              "       1, 2, 2, 2, 2, 2, 2, 2, 2, 2, 2, 2, 2, 2, 2, 2, 2, 1, 2, 2, 2, 2,\n",
              "       2, 2, 2, 1, 2, 2, 2, 2, 1, 2, 2, 2, 2, 2, 2, 2, 2, 1, 2, 1, 2, 2,\n",
              "       2, 2, 2, 2, 2, 2, 1, 1, 2, 2, 1, 2, 2, 2, 2, 2, 2, 2, 2, 2, 2, 2,\n",
              "       2, 2, 2, 2, 2, 1, 2, 1, 2, 2, 2, 2, 2, 1, 1, 2, 2, 1, 2, 1, 2, 2,\n",
              "       1, 2, 2, 2, 2, 1, 2, 1, 2, 2, 2, 1, 2, 2, 2, 2, 1, 2, 2, 2, 2, 2,\n",
              "       1, 2, 2, 1, 2, 2, 2, 2, 2, 1, 2, 2, 2, 1, 2, 2, 2, 1, 2, 2, 2, 2,\n",
              "       2, 2, 2, 2, 2, 1, 2, 1, 1, 1, 2, 2, 1, 2, 2, 2, 2, 2, 2, 2, 2, 2,\n",
              "       2, 1, 2, 2, 2, 1, 1, 2, 2, 2, 2, 2, 2, 1, 1, 2, 2, 2, 2, 2, 2, 2,\n",
              "       2, 2, 1, 1, 1, 2, 2, 2, 2, 2, 2, 2, 2, 2, 2, 2, 1, 2, 2, 2, 2, 2,\n",
              "       2, 1, 1, 1, 2, 2, 1, 2, 2, 2, 2, 2, 2, 2, 1, 2, 2, 2, 2, 2, 2, 2,\n",
              "       2, 2, 2, 2, 2, 1, 2, 2, 2, 2, 2, 2, 2, 1, 2, 1, 2, 2, 1, 2, 2, 2,\n",
              "       2, 1, 1, 2, 1, 2, 2, 2, 2, 1, 1, 1, 2, 2, 1, 1, 2, 2, 2, 1, 2, 2,\n",
              "       2, 2, 2, 1, 2, 2, 2, 2, 1, 2, 1, 2, 2, 2, 2, 2, 2, 2, 2, 2, 2, 2,\n",
              "       2, 2, 1, 2, 2, 1, 2, 1, 2, 2, 2, 2, 2, 2, 2, 2, 2, 1, 2, 2, 2, 2,\n",
              "       2, 2, 2, 2, 2, 2, 1, 2, 2, 2, 2, 2, 2, 2, 2, 2, 2, 2, 1, 2, 1, 2,\n",
              "       2, 1, 2, 2, 1, 2, 2, 1, 2, 2, 2, 2, 1, 2, 2, 2, 1, 2, 2, 2, 2, 2,\n",
              "       2, 2, 2, 2, 2, 1, 2, 2, 2, 2, 2, 2, 1, 2, 2, 2, 1, 2, 2, 2, 2, 2,\n",
              "       2, 2, 2, 2, 2, 1, 2, 2, 2, 2, 1, 1, 2, 2, 2, 2, 2, 2, 1, 2, 2, 1,\n",
              "       2, 2, 2, 2, 2, 1, 2, 2, 2, 2, 2, 2, 2, 2, 2, 1, 2, 2, 2, 2, 2, 2,\n",
              "       2, 2, 2, 2, 1, 2, 2, 1, 2, 2, 1, 2, 2, 2, 2, 2, 1, 2, 2, 2, 2, 2,\n",
              "       2, 2, 1, 1, 2, 2, 1, 2, 2, 2, 1, 1, 2, 2, 2, 2, 2, 2, 2, 2, 2, 2,\n",
              "       2, 2, 2, 2, 2, 1, 2, 2, 1, 2, 1, 2, 1, 2, 2, 2, 2, 2, 1, 2, 1, 2,\n",
              "       2, 2, 1, 2, 2, 2, 2, 2, 2, 2, 2, 2, 1, 1, 1, 2, 1, 2, 2, 2, 2, 2,\n",
              "       2, 2, 2, 2, 2, 2, 2, 2, 1, 2])"
            ]
          },
          "metadata": {},
          "execution_count": 161
        }
      ]
    },
    {
      "cell_type": "code",
      "source": [
        "GBC.score(X_train,Y_train)"
      ],
      "metadata": {
        "id": "N0fStcKtj3fQ",
        "colab": {
          "base_uri": "https://localhost:8080/"
        },
        "outputId": "3c403524-6255-4e00-ab00-ae1f4272d68f"
      },
      "execution_count": null,
      "outputs": [
        {
          "output_type": "execute_result",
          "data": {
            "text/plain": [
              "0.7047619047619048"
            ]
          },
          "metadata": {},
          "execution_count": 162
        }
      ]
    },
    {
      "cell_type": "code",
      "source": [
        "GBC.score(X_test,Y_test)"
      ],
      "metadata": {
        "id": "q070HF0Ej_8G",
        "colab": {
          "base_uri": "https://localhost:8080/"
        },
        "outputId": "fe63cad3-66f1-4cb1-f059-ff3361d9ae2e"
      },
      "execution_count": null,
      "outputs": [
        {
          "output_type": "execute_result",
          "data": {
            "text/plain": [
              "0.6854304635761589"
            ]
          },
          "metadata": {},
          "execution_count": 163
        }
      ]
    },
    {
      "cell_type": "code",
      "source": [
        "from sklearn.ensemble import GradientBoostingRegressor\n",
        "GB=GradientBoostingRegressor(n_estimators=3)\n",
        "GB.fit(X_train,Y_train)\n",
        "GB.predict(X_test)"
      ],
      "metadata": {
        "id": "zQ4cxlR8kHNf",
        "colab": {
          "base_uri": "https://localhost:8080/"
        },
        "outputId": "25d17da6-77fa-497f-b120-d512dd86d5ea"
      },
      "execution_count": null,
      "outputs": [
        {
          "output_type": "execute_result",
          "data": {
            "text/plain": [
              "array([1.54847592, 1.54847592, 1.71928865, 1.71928865, 1.71928865,\n",
              "       1.71928865, 1.71928865, 1.54847592, 1.71928865, 1.71928865,\n",
              "       1.51757666, 1.71928865, 1.71928865, 1.71928865, 1.71928865,\n",
              "       1.71928865, 1.71928865, 1.71928865, 1.71928865, 1.71928865,\n",
              "       1.71928865, 1.71928865, 1.71928865, 1.71928865, 1.51757666,\n",
              "       1.51757666, 1.54847592, 1.54847592, 1.71928865, 1.71928865,\n",
              "       1.71928865, 1.71928865, 1.71928865, 1.71928865, 1.71928865,\n",
              "       1.51757666, 1.71928865, 1.51757666, 1.71928865, 1.71928865,\n",
              "       1.71928865, 1.71928865, 1.71928865, 1.71928865, 1.71928865,\n",
              "       1.71928865, 1.71928865, 1.71928865, 1.71928865, 1.71928865,\n",
              "       1.54847592, 1.71928865, 1.71928865, 1.71928865, 1.71928865,\n",
              "       1.52572547, 1.71928865, 1.51757666, 1.71928865, 1.71928865,\n",
              "       1.71928865, 1.71928865, 1.71928865, 1.71928865, 1.54847592,\n",
              "       1.71928865, 1.88155331, 1.71928865, 1.71928865, 1.51757666,\n",
              "       1.71928865, 1.71928865, 1.71928865, 1.71928865, 1.71928865,\n",
              "       1.71928865, 1.51757666, 1.54847592, 1.71928865, 1.71928865,\n",
              "       1.51757666, 1.71928865, 1.54847592, 1.71928865, 1.71928865,\n",
              "       1.51757666, 1.71928865, 1.71928865, 1.51757666, 1.71928865,\n",
              "       1.71928865, 1.71928865, 1.71928865, 1.71928865, 1.71928865,\n",
              "       1.71928865, 1.71928865, 1.71928865, 1.71928865, 1.71928865,\n",
              "       1.71928865, 1.71928865, 1.71928865, 1.71928865, 1.71928865,\n",
              "       1.52572547, 1.71928865, 1.71928865, 1.71928865, 1.71928865,\n",
              "       1.71928865, 1.71928865, 1.71928865, 1.51757666, 1.71928865,\n",
              "       1.71928865, 1.71928865, 1.71928865, 1.51757666, 1.71928865,\n",
              "       1.71928865, 1.71928865, 1.71928865, 1.71928865, 1.71928865,\n",
              "       1.71928865, 1.71928865, 1.51757666, 1.71928865, 1.51757666,\n",
              "       1.71928865, 1.71928865, 1.71928865, 1.71928865, 1.71928865,\n",
              "       1.71928865, 1.71928865, 1.71928865, 1.54847592, 1.52572547,\n",
              "       1.71928865, 1.71928865, 1.54847592, 1.71928865, 1.71928865,\n",
              "       1.71928865, 1.71928865, 1.71928865, 1.71928865, 1.71928865,\n",
              "       1.71928865, 1.71928865, 1.71928865, 1.71928865, 1.71928865,\n",
              "       1.71928865, 1.71928865, 1.71928865, 1.71928865, 1.54847592,\n",
              "       1.71928865, 1.51757666, 1.71928865, 1.71928865, 1.71928865,\n",
              "       1.71928865, 1.71928865, 1.54847592, 1.51757666, 1.71928865,\n",
              "       1.71928865, 1.51757666, 1.71928865, 1.51757666, 1.71928865,\n",
              "       1.71928865, 1.51757666, 1.71928865, 1.68998068, 1.71928865,\n",
              "       1.71928865, 1.51757666, 1.71928865, 1.51757666, 1.71928865,\n",
              "       1.71928865, 1.71928865, 1.54847592, 1.71928865, 1.71928865,\n",
              "       1.71928865, 1.71928865, 1.51757666, 1.71928865, 1.71928865,\n",
              "       1.71928865, 1.71928865, 1.71928865, 1.51757666, 1.71928865,\n",
              "       1.71928865, 1.51757666, 1.71928865, 1.71928865, 1.71928865,\n",
              "       1.71928865, 1.71928865, 1.51757666, 1.71928865, 1.71928865,\n",
              "       1.71928865, 1.51757666, 1.71928865, 1.71928865, 1.71928865,\n",
              "       1.54847592, 1.71928865, 1.71928865, 1.71928865, 1.71928865,\n",
              "       1.71928865, 1.71928865, 1.71928865, 1.71928865, 1.71928865,\n",
              "       1.54847592, 1.71928865, 1.51757666, 1.51757666, 1.54847592,\n",
              "       1.71928865, 1.71928865, 1.54847592, 1.71928865, 1.71928865,\n",
              "       1.71928865, 1.71928865, 1.71928865, 1.71928865, 1.71928865,\n",
              "       1.71928865, 1.71928865, 1.71928865, 1.54847592, 1.71928865,\n",
              "       1.71928865, 1.71928865, 1.51757666, 1.51757666, 1.71928865,\n",
              "       1.71928865, 1.71928865, 1.71928865, 1.71928865, 1.71928865,\n",
              "       1.54847592, 1.51757666, 1.71928865, 1.71928865, 1.71928865,\n",
              "       1.71928865, 1.71928865, 1.71928865, 1.71928865, 1.71928865,\n",
              "       1.51757666, 1.54847592, 1.51757666, 1.52572547, 1.71928865,\n",
              "       1.71928865, 1.71928865, 1.71928865, 1.71928865, 1.71928865,\n",
              "       1.71928865, 1.71928865, 1.71928865, 1.71928865, 1.71928865,\n",
              "       1.51757666, 1.71928865, 1.71928865, 1.71928865, 1.71928865,\n",
              "       1.71928865, 1.71928865, 1.54847592, 1.51757666, 1.51757666,\n",
              "       1.71928865, 1.71928865, 1.51757666, 1.71928865, 1.71928865,\n",
              "       1.71928865, 1.71928865, 1.71928865, 1.71928865, 1.71928865,\n",
              "       1.52572547, 1.71928865, 1.71928865, 1.71928865, 1.71928865,\n",
              "       1.71928865, 1.71928865, 1.71928865, 1.71928865, 1.71928865,\n",
              "       1.71928865, 1.71928865, 1.71928865, 1.54847592, 1.71928865,\n",
              "       1.71928865, 1.71928865, 1.71928865, 1.71928865, 1.71928865,\n",
              "       1.71928865, 1.54847592, 1.51757666, 1.54847592, 1.51757666,\n",
              "       1.71928865, 1.54847592, 1.71928865, 1.71928865, 1.71928865,\n",
              "       1.71928865, 1.51757666, 1.51757666, 1.71928865, 1.51757666,\n",
              "       1.71928865, 1.71928865, 1.71928865, 1.71928865, 1.51757666,\n",
              "       1.54847592, 1.51757666, 1.71928865, 1.71928865, 1.54847592,\n",
              "       1.51757666, 1.71928865, 1.71928865, 1.71928865, 1.54847592,\n",
              "       1.71928865, 1.71928865, 1.71928865, 1.71928865, 1.71928865,\n",
              "       1.54847592, 1.71928865, 1.71928865, 1.71928865, 1.71928865,\n",
              "       1.51757666, 1.71928865, 1.51757666, 1.71928865, 1.71928865,\n",
              "       1.71928865, 1.71928865, 1.71928865, 1.71928865, 1.71928865,\n",
              "       1.71928865, 1.71928865, 1.71928865, 1.71928865, 1.71928865,\n",
              "       1.71928865, 1.51757666, 1.71928865, 1.71928865, 1.52572547,\n",
              "       1.71928865, 1.52572547, 1.71928865, 1.71928865, 1.71928865,\n",
              "       1.71928865, 1.71928865, 1.71928865, 1.71928865, 1.71928865,\n",
              "       1.71928865, 1.51757666, 1.71928865, 1.71928865, 1.71928865,\n",
              "       1.68998068, 1.71928865, 1.71928865, 1.71928865, 1.71928865,\n",
              "       1.71928865, 1.71928865, 1.51757666, 1.71928865, 1.71928865,\n",
              "       1.71928865, 1.71928865, 1.71928865, 1.71928865, 1.71928865,\n",
              "       1.71928865, 1.71928865, 1.71928865, 1.71928865, 1.51757666,\n",
              "       1.71928865, 1.54847592, 1.71928865, 1.71928865, 1.54847592,\n",
              "       1.71928865, 1.71928865, 1.51757666, 1.71928865, 1.71928865,\n",
              "       1.54847592, 1.71928865, 1.71928865, 1.71928865, 1.71928865,\n",
              "       1.51757666, 1.71928865, 1.71928865, 1.71928865, 1.51757666,\n",
              "       1.71928865, 1.71928865, 1.71928865, 1.71928865, 1.71928865,\n",
              "       1.71928865, 1.71928865, 1.71928865, 1.71928865, 1.71928865,\n",
              "       1.51757666, 1.71928865, 1.71928865, 1.71928865, 1.71928865,\n",
              "       1.71928865, 1.71928865, 1.51757666, 1.71928865, 1.71928865,\n",
              "       1.71928865, 1.51757666, 1.71928865, 1.71928865, 1.71928865,\n",
              "       1.71928865, 1.71928865, 1.71928865, 1.71928865, 1.71928865,\n",
              "       1.71928865, 1.71928865, 1.54847592, 1.71928865, 1.71928865,\n",
              "       1.71928865, 1.71928865, 1.54847592, 1.51757666, 1.71928865,\n",
              "       1.71928865, 1.71928865, 1.71928865, 1.71928865, 1.71928865,\n",
              "       1.52572547, 1.71928865, 1.71928865, 1.54847592, 1.71928865,\n",
              "       1.71928865, 1.71928865, 1.71928865, 1.71928865, 1.54847592,\n",
              "       1.71928865, 1.71928865, 1.71928865, 1.71928865, 1.71928865,\n",
              "       1.71928865, 1.71928865, 1.71928865, 1.71928865, 1.52572547,\n",
              "       1.71928865, 1.71928865, 1.71928865, 1.71928865, 1.71928865,\n",
              "       1.71928865, 1.71928865, 1.71928865, 1.71928865, 1.71928865,\n",
              "       1.52572547, 1.71928865, 1.71928865, 1.52572547, 1.71928865,\n",
              "       1.71928865, 1.51757666, 1.71928865, 1.71928865, 1.71928865,\n",
              "       1.71928865, 1.71928865, 1.54847592, 1.71928865, 1.71928865,\n",
              "       1.71928865, 1.71928865, 1.71928865, 1.71928865, 1.71928865,\n",
              "       1.51757666, 1.51757666, 1.71928865, 1.71928865, 1.54847592,\n",
              "       1.71928865, 1.71928865, 1.71928865, 1.51757666, 1.54847592,\n",
              "       1.71928865, 1.71928865, 1.71928865, 1.71928865, 1.71928865,\n",
              "       1.71928865, 1.71928865, 1.71928865, 1.71928865, 1.71928865,\n",
              "       1.71928865, 1.71928865, 1.71928865, 1.71928865, 1.71928865,\n",
              "       1.54847592, 1.71928865, 1.71928865, 1.51757666, 1.71928865,\n",
              "       1.51757666, 1.71928865, 1.51757666, 1.71928865, 1.71928865,\n",
              "       1.71928865, 1.71928865, 1.71928865, 1.51757666, 1.71928865,\n",
              "       1.51757666, 1.71928865, 1.71928865, 1.71928865, 1.51757666,\n",
              "       1.71928865, 1.71928865, 1.71928865, 1.71928865, 1.71928865,\n",
              "       1.71928865, 1.71928865, 1.71928865, 1.68998068, 1.51757666,\n",
              "       1.54847592, 1.54847592, 1.71928865, 1.54847592, 1.71928865,\n",
              "       1.71928865, 1.71928865, 1.71928865, 1.71928865, 1.71928865,\n",
              "       1.71928865, 1.71928865, 1.71928865, 1.71928865, 1.71928865,\n",
              "       1.71928865, 1.71928865, 1.51757666, 1.71928865])"
            ]
          },
          "metadata": {},
          "execution_count": 164
        }
      ]
    },
    {
      "cell_type": "code",
      "source": [
        "GB.score(X_train,Y_train)"
      ],
      "metadata": {
        "id": "8wpk3Nk9kTbQ",
        "colab": {
          "base_uri": "https://localhost:8080/"
        },
        "outputId": "9ffad55c-505a-4ec5-fe87-e15194624cd0"
      },
      "execution_count": null,
      "outputs": [
        {
          "output_type": "execute_result",
          "data": {
            "text/plain": [
              "0.11094385106365501"
            ]
          },
          "metadata": {},
          "execution_count": 165
        }
      ]
    },
    {
      "cell_type": "code",
      "source": [
        "GB.score(X_test,Y_test)"
      ],
      "metadata": {
        "id": "iEbu5uxHkcOG",
        "colab": {
          "base_uri": "https://localhost:8080/"
        },
        "outputId": "21f560fb-5081-42b0-9d3c-0addf07b9976"
      },
      "execution_count": null,
      "outputs": [
        {
          "output_type": "execute_result",
          "data": {
            "text/plain": [
              "0.09301234053873975"
            ]
          },
          "metadata": {},
          "execution_count": 166
        }
      ]
    },
    {
      "cell_type": "markdown",
      "source": [
        "**Random Forest**"
      ],
      "metadata": {
        "id": "WRLJ4nn_VEF1"
      }
    },
    {
      "cell_type": "code",
      "source": [
        "from sklearn.ensemble import RandomForestRegressor\n",
        "\n",
        "regressor = RandomForestRegressor(n_estimators=20, random_state=0)\n",
        "regressor.fit(X_train, Y_train)\n",
        "regressor.predict(X_test)"
      ],
      "metadata": {
        "colab": {
          "base_uri": "https://localhost:8080/"
        },
        "id": "vnbXqbgoS7lv",
        "outputId": "f093d8f5-7bcc-405b-fd5e-bf210f0a31b9"
      },
      "execution_count": null,
      "outputs": [
        {
          "output_type": "execute_result",
          "data": {
            "text/plain": [
              "array([1.        , 1.        , 2.        , 1.15      , 1.4       ,\n",
              "       1.9       , 1.95      , 1.1       , 2.        , 2.5       ,\n",
              "       1.        , 1.8       , 1.70138889, 2.05      , 2.05      ,\n",
              "       1.9       , 2.1       , 1.60228237, 1.05      , 1.05      ,\n",
              "       1.85      , 2.30879351, 2.        , 1.85      , 1.        ,\n",
              "       1.        , 1.        , 1.4       , 1.6       , 2.15      ,\n",
              "       2.25      , 2.        , 2.15      , 2.        , 1.25      ,\n",
              "       1.1       , 1.6       , 1.        , 1.75      , 2.05      ,\n",
              "       1.05      , 2.05      , 2.23444138, 1.05      , 1.15      ,\n",
              "       1.05      , 1.75048215, 2.05      , 1.94726264, 2.0477798 ,\n",
              "       1.2       , 1.3       , 1.75      , 1.25      , 1.05      ,\n",
              "       1.        , 1.85      , 1.        , 1.95      , 1.95      ,\n",
              "       1.05      , 2.        , 1.9       , 1.7449516 , 1.7       ,\n",
              "       2.53833333, 2.2       , 2.05      , 2.        , 1.15      ,\n",
              "       1.77597222, 2.        , 1.7       , 2.55      , 1.94370168,\n",
              "       1.85      , 1.        , 1.1       , 1.15      , 1.85      ,\n",
              "       1.05      , 1.05      , 1.        , 2.05      , 2.1       ,\n",
              "       1.        , 1.15603448, 1.4       , 1.2       , 2.        ,\n",
              "       2.        , 1.24813308, 1.7       , 2.        , 2.22      ,\n",
              "       1.05      , 1.7       , 1.65      , 2.        , 1.25      ,\n",
              "       1.8       , 1.15      , 1.35      , 2.2       , 1.05      ,\n",
              "       1.1       , 1.8       , 1.7       , 2.1       , 1.98630894,\n",
              "       1.95      , 2.75      , 1.8       , 1.        , 1.85      ,\n",
              "       1.8345848 , 1.25      , 2.6       , 1.        , 1.94303787,\n",
              "       1.55      , 1.85      , 1.35      , 2.        , 1.9       ,\n",
              "       1.74023194, 2.        , 1.2       , 2.        , 1.        ,\n",
              "       1.75      , 1.75603448, 2.        , 1.1       , 1.9       ,\n",
              "       1.99234342, 2.275     , 2.15      , 1.55      , 1.        ,\n",
              "       2.00495335, 1.8       , 1.        , 2.00180723, 2.1       ,\n",
              "       2.00295756, 1.95      , 2.        , 2.09127367, 1.95      ,\n",
              "       1.        , 1.05      , 2.1       , 1.74087203, 1.7       ,\n",
              "       1.85      , 2.        , 1.5       , 1.7375    , 1.05      ,\n",
              "       1.8       , 1.        , 2.        , 1.15      , 1.99404571,\n",
              "       1.95      , 2.        , 1.        , 1.        , 1.95      ,\n",
              "       2.125     , 1.05      , 1.80284455, 1.        , 2.2       ,\n",
              "       1.65      , 1.        , 1.        , 1.8       , 1.75      ,\n",
              "       1.98583729, 1.        , 1.95359991, 1.4       , 1.85      ,\n",
              "       2.24760628, 2.        , 1.8       , 1.99234342, 1.7       ,\n",
              "       1.44312561, 1.75      , 1.        , 1.75      , 1.99234342,\n",
              "       2.05      , 1.34873031, 1.9       , 1.        , 2.        ,\n",
              "       1.55      , 1.        , 1.85241858, 1.94388387, 1.3       ,\n",
              "       2.05      , 1.65      , 1.        , 2.        , 2.23444138,\n",
              "       1.75      , 1.        , 1.15      , 1.95      , 1.75      ,\n",
              "       1.1       , 2.05      , 1.45      , 1.99150245, 1.75      ,\n",
              "       2.09682639, 1.25      , 1.95      , 2.2       , 1.65      ,\n",
              "       1.2       , 2.        , 1.        , 1.        , 1.25      ,\n",
              "       1.45      , 1.75      , 1.3       , 2.        , 1.98583729,\n",
              "       1.75      , 1.45      , 1.7       , 1.        , 1.75      ,\n",
              "       2.00979228, 2.15      , 1.6       , 1.3       , 1.43868873,\n",
              "       1.95      , 2.05      , 1.        , 1.15      , 1.05      ,\n",
              "       1.99234342, 2.        , 1.9       , 2.2       , 2.01039376,\n",
              "       1.        , 1.        , 2.        , 1.05      , 2.75      ,\n",
              "       2.        , 2.        , 1.1       , 1.7       , 2.        ,\n",
              "       1.7       , 1.        , 1.4       , 1.        , 1.85      ,\n",
              "       1.9       , 1.70028546, 1.85      , 1.35      , 1.99234342,\n",
              "       1.3       , 1.9       , 1.75      , 2.        , 1.89127367,\n",
              "       1.        , 1.8       , 1.99234342, 2.        , 1.75      ,\n",
              "       1.85128205, 1.5       , 1.05      , 1.        , 1.        ,\n",
              "       1.7       , 1.95      , 1.        , 2.00371535, 1.15      ,\n",
              "       1.81666667, 1.95      , 2.        , 1.94620253, 1.99234342,\n",
              "       1.        , 2.        , 2.29      , 1.99369621, 2.35      ,\n",
              "       1.35      , 1.94828544, 1.3       , 1.80833333, 1.2       ,\n",
              "       2.15      , 2.25      , 1.05      , 1.        , 1.6       ,\n",
              "       1.80275494, 1.68815545, 1.75      , 2.35      , 1.83652813,\n",
              "       2.15      , 1.        , 1.5       , 1.75      , 1.5       ,\n",
              "       2.00159782, 1.05      , 2.        , 2.        , 2.        ,\n",
              "       1.3       , 1.        , 1.        , 1.98630894, 1.        ,\n",
              "       1.99234342, 1.85      , 2.7       , 2.        , 1.        ,\n",
              "       1.        , 1.05      , 1.99234342, 1.99234342, 1.5       ,\n",
              "       1.        , 1.95      , 2.        , 1.25      , 1.        ,\n",
              "       1.34734425, 1.        , 2.05      , 1.15      , 2.05      ,\n",
              "       1.25      , 2.        , 1.95      , 1.94759142, 1.75      ,\n",
              "       1.2       , 1.55      , 1.        , 2.05      , 1.85352921,\n",
              "       1.7       , 2.5       , 1.75      , 1.99234342, 1.9       ,\n",
              "       2.        , 1.9       , 2.        , 1.75      , 1.75      ,\n",
              "       2.        , 1.        , 1.45      , 2.1       , 1.6       ,\n",
              "       2.15      , 1.3       , 1.99234342, 2.05499118, 2.        ,\n",
              "       2.35      , 1.98935683, 2.        , 1.99234342, 1.7       ,\n",
              "       2.1       , 1.05      , 2.        , 1.75      , 1.3       ,\n",
              "       1.7       , 2.30128205, 2.        , 2.05      , 2.15      ,\n",
              "       1.4       , 1.95      , 1.15      , 1.45      , 1.65      ,\n",
              "       1.95      , 1.05      , 2.        , 2.        , 1.95      ,\n",
              "       2.00603448, 2.        , 1.99234342, 1.05      , 1.1       ,\n",
              "       1.        , 1.65      , 1.8985045 , 1.6       , 1.15      ,\n",
              "       2.        , 1.25      , 1.05      , 1.85      , 1.99234342,\n",
              "       1.4       , 1.5       , 1.        , 1.6       , 1.05      ,\n",
              "       1.        , 2.05      , 1.2       , 1.99234342, 1.        ,\n",
              "       1.75      , 2.29166667, 2.        , 1.9       , 2.        ,\n",
              "       2.        , 2.5       , 1.7       , 1.5       , 2.        ,\n",
              "       1.        , 1.99234342, 2.        , 1.35      , 1.5       ,\n",
              "       2.1       , 1.45      , 1.5       , 2.5       , 1.99234342,\n",
              "       1.95      , 1.        , 1.9       , 1.        , 1.95      ,\n",
              "       1.95      , 1.4       , 2.        , 1.75      , 2.        ,\n",
              "       1.95      , 1.75      , 1.        , 1.75      , 1.40138889,\n",
              "       1.3       , 2.        , 1.05      , 1.        , 2.        ,\n",
              "       2.40416667, 2.05      , 1.9       , 1.95      , 1.99234342,\n",
              "       1.        , 1.99234342, 1.85      , 1.1       , 2.45      ,\n",
              "       1.74635058, 1.05      , 1.95      , 2.        , 1.        ,\n",
              "       1.25      , 2.55      , 1.99234342, 2.        , 2.525     ,\n",
              "       1.4       , 2.05      , 1.84198566, 2.        , 1.        ,\n",
              "       1.9       , 2.2       , 1.98935683, 2.05      , 1.        ,\n",
              "       2.05      , 1.99720285, 1.95      , 1.15      , 2.55      ,\n",
              "       1.        , 2.        , 2.3       , 1.15      , 1.35      ,\n",
              "       2.        , 1.        , 1.99234342, 1.7       , 1.99234342,\n",
              "       1.8       , 2.15      , 1.35      , 2.3       , 1.85      ,\n",
              "       2.        , 2.        , 1.99379297, 1.85      , 2.26718939,\n",
              "       1.        , 1.15      , 1.89837684, 2.26718939, 1.05      ,\n",
              "       2.1       , 1.55      , 1.85      , 1.05      , 1.        ,\n",
              "       2.55      , 1.9486179 , 1.70088201, 1.        , 2.1625    ,\n",
              "       1.99234342, 2.        , 1.45523591, 2.07083333, 1.95      ,\n",
              "       1.1       , 2.25      , 2.1       , 1.85      , 1.        ,\n",
              "       1.        , 1.99456362, 1.9       , 1.        , 1.5       ,\n",
              "       1.05      , 1.77402967, 1.        , 2.15      , 1.2       ,\n",
              "       2.09484313, 2.4       , 1.9       , 1.        , 2.        ,\n",
              "       1.        , 2.05      , 1.95      , 1.90128205, 1.        ,\n",
              "       1.65      , 1.99234342, 2.025     , 1.55      , 1.34831197,\n",
              "       1.78857143, 2.1       , 1.85      , 1.65      , 1.        ,\n",
              "       1.05      , 1.75      , 2.54894432, 1.05      , 2.05458895,\n",
              "       2.        , 2.15      , 2.        , 2.05      , 1.94482841,\n",
              "       1.5       , 1.1       , 1.96      , 1.1       , 1.65      ,\n",
              "       1.65      , 1.4       , 1.        , 1.74717202])"
            ]
          },
          "metadata": {},
          "execution_count": 167
        }
      ]
    },
    {
      "cell_type": "code",
      "source": [
        "regressor.score(X_train,Y_train)"
      ],
      "metadata": {
        "colab": {
          "base_uri": "https://localhost:8080/"
        },
        "id": "yDqKltpHV2nF",
        "outputId": "72a8b0e5-98bb-431a-c8a0-3affc2be6588"
      },
      "execution_count": null,
      "outputs": [
        {
          "output_type": "execute_result",
          "data": {
            "text/plain": [
              "0.8647859360951407"
            ]
          },
          "metadata": {},
          "execution_count": 168
        }
      ]
    },
    {
      "cell_type": "code",
      "source": [
        "regressor.score(X_test,Y_test)"
      ],
      "metadata": {
        "colab": {
          "base_uri": "https://localhost:8080/"
        },
        "id": "OkfZIMYLVfgk",
        "outputId": "547a1df5-9df2-49b4-adca-d720f9a5a738"
      },
      "execution_count": null,
      "outputs": [
        {
          "output_type": "execute_result",
          "data": {
            "text/plain": [
              "0.27071922294977324"
            ]
          },
          "metadata": {},
          "execution_count": 169
        }
      ]
    },
    {
      "cell_type": "markdown",
      "source": [
        "**Linear Regression**"
      ],
      "metadata": {
        "id": "Y_J8pWmdZOwx"
      }
    },
    {
      "cell_type": "code",
      "source": [
        "from sklearn.linear_model import LinearRegression\n",
        "regressor = LinearRegression()\n",
        "regressor.fit( X_train, Y_train)"
      ],
      "metadata": {
        "colab": {
          "base_uri": "https://localhost:8080/"
        },
        "id": "kSMw2SBBZPG-",
        "outputId": "f794000d-8318-43a6-f6ee-6dd2c7a53127"
      },
      "execution_count": null,
      "outputs": [
        {
          "output_type": "execute_result",
          "data": {
            "text/plain": [
              "LinearRegression()"
            ]
          },
          "metadata": {},
          "execution_count": 170
        }
      ]
    },
    {
      "cell_type": "code",
      "source": [
        "regressor.score (X_train, Y_train)"
      ],
      "metadata": {
        "colab": {
          "base_uri": "https://localhost:8080/"
        },
        "id": "0dZzVzlrZTEO",
        "outputId": "2f83ac69-5156-42be-a2f6-6d36d11c3cc0"
      },
      "execution_count": null,
      "outputs": [
        {
          "output_type": "execute_result",
          "data": {
            "text/plain": [
              "0.7373102044742237"
            ]
          },
          "metadata": {},
          "execution_count": 171
        }
      ]
    },
    {
      "cell_type": "code",
      "source": [
        "regressor.score (X_test, Y_test)"
      ],
      "metadata": {
        "colab": {
          "base_uri": "https://localhost:8080/"
        },
        "id": "LaMG0olaaMFI",
        "outputId": "e6e18360-5679-409e-f43a-0a4ac915a7ca"
      },
      "execution_count": null,
      "outputs": [
        {
          "output_type": "execute_result",
          "data": {
            "text/plain": [
              "-0.07372119898236384"
            ]
          },
          "metadata": {},
          "execution_count": 172
        }
      ]
    }
  ]
}